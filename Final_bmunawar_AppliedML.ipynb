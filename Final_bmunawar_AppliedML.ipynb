{
 "cells": [
  {
   "cell_type": "code",
   "execution_count": 7,
   "metadata": {},
   "outputs": [],
   "source": [
    "import pandas as pd\n",
    "import numpy as np\n",
    "import scipy as sp\n",
    "import warnings \n",
    "warnings.filterwarnings('ignore')\n",
    "import matplotlib.pyplot as plt\n",
    "%matplotlib inline\n",
    "import statsmodels.formula.api as smf"
   ]
  },
  {
   "cell_type": "markdown",
   "metadata": {},
   "source": [
    "## Exploration and Analysis"
   ]
  },
  {
   "cell_type": "code",
   "execution_count": 3,
   "metadata": {},
   "outputs": [
    {
     "data": {
      "text/html": [
       "<div>\n",
       "<style scoped>\n",
       "    .dataframe tbody tr th:only-of-type {\n",
       "        vertical-align: middle;\n",
       "    }\n",
       "\n",
       "    .dataframe tbody tr th {\n",
       "        vertical-align: top;\n",
       "    }\n",
       "\n",
       "    .dataframe thead th {\n",
       "        text-align: right;\n",
       "    }\n",
       "</style>\n",
       "<table border=\"1\" class=\"dataframe\">\n",
       "  <thead>\n",
       "    <tr style=\"text-align: right;\">\n",
       "      <th></th>\n",
       "      <th>Daily Time Spent on Site</th>\n",
       "      <th>Age</th>\n",
       "      <th>Area Income</th>\n",
       "      <th>Daily Internet Usage</th>\n",
       "      <th>Ad Topic Line</th>\n",
       "      <th>City</th>\n",
       "      <th>Male</th>\n",
       "      <th>Country</th>\n",
       "      <th>Timestamp</th>\n",
       "      <th>Clicked on Ad</th>\n",
       "    </tr>\n",
       "  </thead>\n",
       "  <tbody>\n",
       "    <tr>\n",
       "      <th>0</th>\n",
       "      <td>68.95</td>\n",
       "      <td>35</td>\n",
       "      <td>61833.90</td>\n",
       "      <td>256.09</td>\n",
       "      <td>Cloned 5thgeneration orchestration</td>\n",
       "      <td>Wrightburgh</td>\n",
       "      <td>0</td>\n",
       "      <td>Tunisia</td>\n",
       "      <td>2016-03-27 00:53:11</td>\n",
       "      <td>0</td>\n",
       "    </tr>\n",
       "    <tr>\n",
       "      <th>1</th>\n",
       "      <td>80.23</td>\n",
       "      <td>31</td>\n",
       "      <td>68441.85</td>\n",
       "      <td>193.77</td>\n",
       "      <td>Monitored national standardization</td>\n",
       "      <td>West Jodi</td>\n",
       "      <td>1</td>\n",
       "      <td>Nauru</td>\n",
       "      <td>2016-04-04 01:39:02</td>\n",
       "      <td>0</td>\n",
       "    </tr>\n",
       "    <tr>\n",
       "      <th>2</th>\n",
       "      <td>69.47</td>\n",
       "      <td>26</td>\n",
       "      <td>59785.94</td>\n",
       "      <td>236.50</td>\n",
       "      <td>Organic bottom-line service-desk</td>\n",
       "      <td>Davidton</td>\n",
       "      <td>0</td>\n",
       "      <td>San Marino</td>\n",
       "      <td>2016-03-13 20:35:42</td>\n",
       "      <td>0</td>\n",
       "    </tr>\n",
       "    <tr>\n",
       "      <th>3</th>\n",
       "      <td>74.15</td>\n",
       "      <td>29</td>\n",
       "      <td>54806.18</td>\n",
       "      <td>245.89</td>\n",
       "      <td>Triple-buffered reciprocal time-frame</td>\n",
       "      <td>West Terrifurt</td>\n",
       "      <td>1</td>\n",
       "      <td>Italy</td>\n",
       "      <td>2016-01-10 02:31:19</td>\n",
       "      <td>0</td>\n",
       "    </tr>\n",
       "    <tr>\n",
       "      <th>4</th>\n",
       "      <td>68.37</td>\n",
       "      <td>35</td>\n",
       "      <td>73889.99</td>\n",
       "      <td>225.58</td>\n",
       "      <td>Robust logistical utilization</td>\n",
       "      <td>South Manuel</td>\n",
       "      <td>0</td>\n",
       "      <td>Iceland</td>\n",
       "      <td>2016-06-03 03:36:18</td>\n",
       "      <td>0</td>\n",
       "    </tr>\n",
       "  </tbody>\n",
       "</table>\n",
       "</div>"
      ],
      "text/plain": [
       "   Daily Time Spent on Site  Age  Area Income  Daily Internet Usage  \\\n",
       "0                     68.95   35     61833.90                256.09   \n",
       "1                     80.23   31     68441.85                193.77   \n",
       "2                     69.47   26     59785.94                236.50   \n",
       "3                     74.15   29     54806.18                245.89   \n",
       "4                     68.37   35     73889.99                225.58   \n",
       "\n",
       "                           Ad Topic Line            City  Male     Country  \\\n",
       "0     Cloned 5thgeneration orchestration     Wrightburgh     0     Tunisia   \n",
       "1     Monitored national standardization       West Jodi     1       Nauru   \n",
       "2       Organic bottom-line service-desk        Davidton     0  San Marino   \n",
       "3  Triple-buffered reciprocal time-frame  West Terrifurt     1       Italy   \n",
       "4          Robust logistical utilization    South Manuel     0     Iceland   \n",
       "\n",
       "             Timestamp  Clicked on Ad  \n",
       "0  2016-03-27 00:53:11              0  \n",
       "1  2016-04-04 01:39:02              0  \n",
       "2  2016-03-13 20:35:42              0  \n",
       "3  2016-01-10 02:31:19              0  \n",
       "4  2016-06-03 03:36:18              0  "
      ]
     },
     "execution_count": 3,
     "metadata": {},
     "output_type": "execute_result"
    }
   ],
   "source": [
    "advertising = pd.read_csv('data/advertising.csv')\n",
    "advertising.head()"
   ]
  },
  {
   "cell_type": "code",
   "execution_count": 4,
   "metadata": {},
   "outputs": [
    {
     "data": {
      "text/plain": [
       "(1000, 10)"
      ]
     },
     "execution_count": 4,
     "metadata": {},
     "output_type": "execute_result"
    }
   ],
   "source": [
    "# print the shape of the DataFrame\n",
    "advertising.shape"
   ]
  },
  {
   "cell_type": "code",
   "execution_count": 6,
   "metadata": {},
   "outputs": [
    {
     "name": "stdout",
     "output_type": "stream",
     "text": [
      "<class 'pandas.core.frame.DataFrame'>\n",
      "RangeIndex: 1000 entries, 0 to 999\n",
      "Data columns (total 10 columns):\n",
      "Daily Time Spent on Site    1000 non-null float64\n",
      "Age                         1000 non-null int64\n",
      "Area Income                 1000 non-null float64\n",
      "Daily Internet Usage        1000 non-null float64\n",
      "Ad Topic Line               1000 non-null object\n",
      "City                        1000 non-null object\n",
      "Male                        1000 non-null int64\n",
      "Country                     1000 non-null object\n",
      "Timestamp                   1000 non-null object\n",
      "Clicked on Ad               1000 non-null int64\n",
      "dtypes: float64(3), int64(3), object(4)\n",
      "memory usage: 78.2+ KB\n"
     ]
    }
   ],
   "source": [
    "advertising.info()\n",
    "##types of features"
   ]
  },
  {
   "cell_type": "code",
   "execution_count": 9,
   "metadata": {},
   "outputs": [],
   "source": [
    "advertising.columns = advertising.columns.str.replace(' ', '')"
   ]
  },
  {
   "cell_type": "code",
   "execution_count": 10,
   "metadata": {},
   "outputs": [
    {
     "name": "stdout",
     "output_type": "stream",
     "text": [
      "<class 'pandas.core.frame.DataFrame'>\n",
      "RangeIndex: 1000 entries, 0 to 999\n",
      "Data columns (total 10 columns):\n",
      "DailyTimeSpentonSite    1000 non-null float64\n",
      "Age                     1000 non-null int64\n",
      "AreaIncome              1000 non-null float64\n",
      "DailyInternetUsage      1000 non-null float64\n",
      "AdTopicLine             1000 non-null object\n",
      "City                    1000 non-null object\n",
      "Male                    1000 non-null int64\n",
      "Country                 1000 non-null object\n",
      "Timestamp               1000 non-null object\n",
      "ClickedonAd             1000 non-null int64\n",
      "dtypes: float64(3), int64(3), object(4)\n",
      "memory usage: 78.2+ KB\n"
     ]
    }
   ],
   "source": [
    "advertising.info()"
   ]
  },
  {
   "cell_type": "code",
   "execution_count": 14,
   "metadata": {},
   "outputs": [
    {
     "data": {
      "text/html": [
       "<table class=\"simpletable\">\n",
       "<caption>OLS Regression Results</caption>\n",
       "<tr>\n",
       "  <th>Dep. Variable:</th>       <td>ClickedonAd</td>   <th>  R-squared:         </th> <td>   0.824</td>\n",
       "</tr>\n",
       "<tr>\n",
       "  <th>Model:</th>                   <td>OLS</td>       <th>  Adj. R-squared:    </th> <td>   0.823</td>\n",
       "</tr>\n",
       "<tr>\n",
       "  <th>Method:</th>             <td>Least Squares</td>  <th>  F-statistic:       </th> <td>   931.2</td>\n",
       "</tr>\n",
       "<tr>\n",
       "  <th>Date:</th>             <td>Wed, 01 May 2019</td> <th>  Prob (F-statistic):</th>  <td>  0.00</td> \n",
       "</tr>\n",
       "<tr>\n",
       "  <th>Time:</th>                 <td>00:16:52</td>     <th>  Log-Likelihood:    </th> <td>  143.05</td>\n",
       "</tr>\n",
       "<tr>\n",
       "  <th>No. Observations:</th>      <td>  1000</td>      <th>  AIC:               </th> <td>  -274.1</td>\n",
       "</tr>\n",
       "<tr>\n",
       "  <th>Df Residuals:</th>          <td>   994</td>      <th>  BIC:               </th> <td>  -244.7</td>\n",
       "</tr>\n",
       "<tr>\n",
       "  <th>Df Model:</th>              <td>     5</td>      <th>                     </th>     <td> </td>   \n",
       "</tr>\n",
       "<tr>\n",
       "  <th>Covariance Type:</th>      <td>nonrobust</td>    <th>                     </th>     <td> </td>   \n",
       "</tr>\n",
       "</table>\n",
       "<table class=\"simpletable\">\n",
       "<tr>\n",
       "            <td></td>              <th>coef</th>     <th>std err</th>      <th>t</th>      <th>P>|t|</th>  <th>[0.025</th>    <th>0.975]</th>  \n",
       "</tr>\n",
       "<tr>\n",
       "  <th>Intercept</th>            <td>    2.3086</td> <td>    0.058</td> <td>   40.113</td> <td> 0.000</td> <td>    2.196</td> <td>    2.422</td>\n",
       "</tr>\n",
       "<tr>\n",
       "  <th>DailyTimeSpentonSite</th> <td>   -0.0128</td> <td>    0.001</td> <td>  -25.294</td> <td> 0.000</td> <td>   -0.014</td> <td>   -0.012</td>\n",
       "</tr>\n",
       "<tr>\n",
       "  <th>Age</th>                  <td>    0.0090</td> <td>    0.001</td> <td>   10.845</td> <td> 0.000</td> <td>    0.007</td> <td>    0.011</td>\n",
       "</tr>\n",
       "<tr>\n",
       "  <th>AreaIncome</th>           <td>-6.173e-06</td> <td> 5.35e-07</td> <td>  -11.536</td> <td> 0.000</td> <td>-7.22e-06</td> <td>-5.12e-06</td>\n",
       "</tr>\n",
       "<tr>\n",
       "  <th>DailyInternetUsage</th>   <td>   -0.0053</td> <td>    0.000</td> <td>  -28.169</td> <td> 0.000</td> <td>   -0.006</td> <td>   -0.005</td>\n",
       "</tr>\n",
       "<tr>\n",
       "  <th>Male</th>                 <td>   -0.0293</td> <td>    0.013</td> <td>   -2.195</td> <td> 0.028</td> <td>   -0.055</td> <td>   -0.003</td>\n",
       "</tr>\n",
       "</table>\n",
       "<table class=\"simpletable\">\n",
       "<tr>\n",
       "  <th>Omnibus:</th>       <td>304.139</td> <th>  Durbin-Watson:     </th> <td>   1.891</td> \n",
       "</tr>\n",
       "<tr>\n",
       "  <th>Prob(Omnibus):</th> <td> 0.000</td>  <th>  Jarque-Bera (JB):  </th> <td> 989.285</td> \n",
       "</tr>\n",
       "<tr>\n",
       "  <th>Skew:</th>          <td> 1.478</td>  <th>  Prob(JB):          </th> <td>1.51e-215</td>\n",
       "</tr>\n",
       "<tr>\n",
       "  <th>Kurtosis:</th>      <td> 6.873</td>  <th>  Cond. No.          </th> <td>4.90e+05</td> \n",
       "</tr>\n",
       "</table><br/><br/>Warnings:<br/>[1] Standard Errors assume that the covariance matrix of the errors is correctly specified.<br/>[2] The condition number is large, 4.9e+05. This might indicate that there are<br/>strong multicollinearity or other numerical problems."
      ],
      "text/plain": [
       "<class 'statsmodels.iolib.summary.Summary'>\n",
       "\"\"\"\n",
       "                            OLS Regression Results                            \n",
       "==============================================================================\n",
       "Dep. Variable:            ClickedonAd   R-squared:                       0.824\n",
       "Model:                            OLS   Adj. R-squared:                  0.823\n",
       "Method:                 Least Squares   F-statistic:                     931.2\n",
       "Date:                Wed, 01 May 2019   Prob (F-statistic):               0.00\n",
       "Time:                        00:16:52   Log-Likelihood:                 143.05\n",
       "No. Observations:                1000   AIC:                            -274.1\n",
       "Df Residuals:                     994   BIC:                            -244.7\n",
       "Df Model:                           5                                         \n",
       "Covariance Type:            nonrobust                                         \n",
       "========================================================================================\n",
       "                           coef    std err          t      P>|t|      [0.025      0.975]\n",
       "----------------------------------------------------------------------------------------\n",
       "Intercept                2.3086      0.058     40.113      0.000       2.196       2.422\n",
       "DailyTimeSpentonSite    -0.0128      0.001    -25.294      0.000      -0.014      -0.012\n",
       "Age                      0.0090      0.001     10.845      0.000       0.007       0.011\n",
       "AreaIncome           -6.173e-06   5.35e-07    -11.536      0.000   -7.22e-06   -5.12e-06\n",
       "DailyInternetUsage      -0.0053      0.000    -28.169      0.000      -0.006      -0.005\n",
       "Male                    -0.0293      0.013     -2.195      0.028      -0.055      -0.003\n",
       "==============================================================================\n",
       "Omnibus:                      304.139   Durbin-Watson:                   1.891\n",
       "Prob(Omnibus):                  0.000   Jarque-Bera (JB):              989.285\n",
       "Skew:                           1.478   Prob(JB):                    1.51e-215\n",
       "Kurtosis:                       6.873   Cond. No.                     4.90e+05\n",
       "==============================================================================\n",
       "\n",
       "Warnings:\n",
       "[1] Standard Errors assume that the covariance matrix of the errors is correctly specified.\n",
       "[2] The condition number is large, 4.9e+05. This might indicate that there are\n",
       "strong multicollinearity or other numerical problems.\n",
       "\"\"\""
      ]
     },
     "execution_count": 14,
     "metadata": {},
     "output_type": "execute_result"
    }
   ],
   "source": [
    "results = smf.ols('ClickedonAd ~ DailyTimeSpentonSite + Age + AreaIncome + DailyInternetUsage + Male', data=advertising).fit()\n",
    "results.summary()"
   ]
  },
  {
   "cell_type": "markdown",
   "metadata": {},
   "source": [
    "I would like to consider Age for building a model because it is the only variable which has positive correlation with Clicked On Ad and even though all other variables are stastically significant, Age is the only one with positive slope, all others are negative.\n",
    "In addition, I did not use City, Country or AdTopicLine because they were more on the side of categorical and were not useful in linear regression"
   ]
  },
  {
   "cell_type": "code",
   "execution_count": 15,
   "metadata": {},
   "outputs": [
    {
     "data": {
      "text/plain": [
       "array([[<matplotlib.axes._subplots.AxesSubplot object at 0x1a1b49c160>]],\n",
       "      dtype=object)"
      ]
     },
     "execution_count": 15,
     "metadata": {},
     "output_type": "execute_result"
    },
    {
     "data": {
      "image/png": "[encoded data removed]",
      "text/plain": [
       "<Figure size 432x288 with 1 Axes>"
      ]
     },
     "metadata": {
      "needs_background": "light"
     },
     "output_type": "display_data"
    }
   ],
   "source": [
    "advertising.hist(column='Age')"
   ]
  },
  {
   "cell_type": "code",
   "execution_count": 16,
   "metadata": {},
   "outputs": [
    {
     "data": {
      "text/html": [
       "<div>\n",
       "<style scoped>\n",
       "    .dataframe tbody tr th:only-of-type {\n",
       "        vertical-align: middle;\n",
       "    }\n",
       "\n",
       "    .dataframe tbody tr th {\n",
       "        vertical-align: top;\n",
       "    }\n",
       "\n",
       "    .dataframe thead th {\n",
       "        text-align: right;\n",
       "    }\n",
       "</style>\n",
       "<table border=\"1\" class=\"dataframe\">\n",
       "  <thead>\n",
       "    <tr style=\"text-align: right;\">\n",
       "      <th></th>\n",
       "      <th>Age</th>\n",
       "      <th>Area_Income</th>\n",
       "    </tr>\n",
       "  </thead>\n",
       "  <tbody>\n",
       "    <tr>\n",
       "      <th>Age</th>\n",
       "      <td>1.000000</td>\n",
       "      <td>-0.182605</td>\n",
       "    </tr>\n",
       "    <tr>\n",
       "      <th>Area_Income</th>\n",
       "      <td>-0.182605</td>\n",
       "      <td>1.000000</td>\n",
       "    </tr>\n",
       "  </tbody>\n",
       "</table>\n",
       "</div>"
      ],
      "text/plain": [
       "                  Age  Area_Income\n",
       "Age          1.000000    -0.182605\n",
       "Area_Income -0.182605     1.000000"
      ]
     },
     "execution_count": 16,
     "metadata": {},
     "output_type": "execute_result"
    }
   ],
   "source": [
    "df = pd.DataFrame()\n",
    "df['Age'] = advertising['Age']\n",
    "df['Area_Income'] = advertising['AreaIncome']\n",
    "\n",
    "df.corr(method ='pearson')"
   ]
  },
  {
   "cell_type": "code",
   "execution_count": 19,
   "metadata": {},
   "outputs": [
    {
     "data": {
      "text/plain": [
       "Text(0, 0.5, 'Age')"
      ]
     },
     "execution_count": 19,
     "metadata": {},
     "output_type": "execute_result"
    },
    {
     "data": {
      "image/png": "[encoded data removed]",
      "text/plain": [
       "<Figure size 432x288 with 1 Axes>"
      ]
     },
     "metadata": {
      "needs_background": "light"
     },
     "output_type": "display_data"
    }
   ],
   "source": [
    "plt.scatter(df['Area_Income'],df['Age'])\n",
    "plt.title('Correlation between Are_Income Vs. Age')\n",
    "plt.xlabel('Area_Income')\n",
    "plt.ylabel('Age')"
   ]
  },
  {
   "cell_type": "markdown",
   "metadata": {},
   "source": [
    "I do not think there is a clear correlation between Area Income and Age of the users."
   ]
  },
  {
   "cell_type": "code",
   "execution_count": 20,
   "metadata": {},
   "outputs": [
    {
     "data": {
      "text/plain": [
       "Text(0, 0.5, 'Daily Internet Usage')"
      ]
     },
     "execution_count": 20,
     "metadata": {},
     "output_type": "execute_result"
    },
    {
     "data": {
      "image/png": "[encoded data removed]",
      "text/plain": [
       "<Figure size 432x288 with 1 Axes>"
      ]
     },
     "metadata": {
      "needs_background": "light"
     },
     "output_type": "display_data"
    }
   ],
   "source": [
    "plt.scatter(advertising['DailyTimeSpentonSite'],advertising['DailyInternetUsage'])\n",
    "plt.title('Correlation between Daily Time on Site and Daily Internet Usage')\n",
    "plt.xlabel('Daily Time Spent on Site')\n",
    "plt.ylabel('Daily Internet Usage')"
   ]
  },
  {
   "cell_type": "markdown",
   "metadata": {},
   "source": [
    "## Modeling and Prediction"
   ]
  },
  {
   "cell_type": "markdown",
   "metadata": {},
   "source": [
    "Question 1) It is a classification example, because we are prediciting categorical variable in answer of Yes or No. For example, would user click on the ad? Yes or No. It is not regression because we are not prediciting numerical figures. Even though in this case, the answer is 0 or 1, but that is also categorical."
   ]
  },
  {
   "cell_type": "code",
   "execution_count": 21,
   "metadata": {},
   "outputs": [
    {
     "data": {
      "text/plain": [
       "(1000, 10)"
      ]
     },
     "execution_count": 21,
     "metadata": {},
     "output_type": "execute_result"
    }
   ],
   "source": [
    "advertising.shape"
   ]
  },
  {
   "cell_type": "code",
   "execution_count": 22,
   "metadata": {},
   "outputs": [
    {
     "name": "stdout",
     "output_type": "stream",
     "text": [
      "<class 'pandas.core.frame.DataFrame'>\n",
      "RangeIndex: 1000 entries, 0 to 999\n",
      "Data columns (total 10 columns):\n",
      "DailyTimeSpentonSite    1000 non-null float64\n",
      "Age                     1000 non-null int64\n",
      "AreaIncome              1000 non-null float64\n",
      "DailyInternetUsage      1000 non-null float64\n",
      "AdTopicLine             1000 non-null object\n",
      "City                    1000 non-null object\n",
      "Male                    1000 non-null int64\n",
      "Country                 1000 non-null object\n",
      "Timestamp               1000 non-null object\n",
      "ClickedonAd             1000 non-null int64\n",
      "dtypes: float64(3), int64(3), object(4)\n",
      "memory usage: 78.2+ KB\n"
     ]
    }
   ],
   "source": [
    "advertising.info()"
   ]
  },
  {
   "cell_type": "code",
   "execution_count": 38,
   "metadata": {},
   "outputs": [
    {
     "data": {
      "text/html": [
       "<div>\n",
       "<style scoped>\n",
       "    .dataframe tbody tr th:only-of-type {\n",
       "        vertical-align: middle;\n",
       "    }\n",
       "\n",
       "    .dataframe tbody tr th {\n",
       "        vertical-align: top;\n",
       "    }\n",
       "\n",
       "    .dataframe thead th {\n",
       "        text-align: right;\n",
       "    }\n",
       "</style>\n",
       "<table border=\"1\" class=\"dataframe\">\n",
       "  <thead>\n",
       "    <tr style=\"text-align: right;\">\n",
       "      <th></th>\n",
       "      <th>DailyTimeSpentonSite</th>\n",
       "      <th>Age</th>\n",
       "      <th>AreaIncome</th>\n",
       "      <th>DailyInternetUsage</th>\n",
       "      <th>Male</th>\n",
       "    </tr>\n",
       "  </thead>\n",
       "  <tbody>\n",
       "    <tr>\n",
       "      <th>0</th>\n",
       "      <td>68.95</td>\n",
       "      <td>35</td>\n",
       "      <td>61833.90</td>\n",
       "      <td>256.09</td>\n",
       "      <td>0</td>\n",
       "    </tr>\n",
       "    <tr>\n",
       "      <th>1</th>\n",
       "      <td>80.23</td>\n",
       "      <td>31</td>\n",
       "      <td>68441.85</td>\n",
       "      <td>193.77</td>\n",
       "      <td>1</td>\n",
       "    </tr>\n",
       "    <tr>\n",
       "      <th>2</th>\n",
       "      <td>69.47</td>\n",
       "      <td>26</td>\n",
       "      <td>59785.94</td>\n",
       "      <td>236.50</td>\n",
       "      <td>0</td>\n",
       "    </tr>\n",
       "    <tr>\n",
       "      <th>3</th>\n",
       "      <td>74.15</td>\n",
       "      <td>29</td>\n",
       "      <td>54806.18</td>\n",
       "      <td>245.89</td>\n",
       "      <td>1</td>\n",
       "    </tr>\n",
       "    <tr>\n",
       "      <th>4</th>\n",
       "      <td>68.37</td>\n",
       "      <td>35</td>\n",
       "      <td>73889.99</td>\n",
       "      <td>225.58</td>\n",
       "      <td>0</td>\n",
       "    </tr>\n",
       "  </tbody>\n",
       "</table>\n",
       "</div>"
      ],
      "text/plain": [
       "   DailyTimeSpentonSite  Age  AreaIncome  DailyInternetUsage  Male\n",
       "0                 68.95   35    61833.90              256.09     0\n",
       "1                 80.23   31    68441.85              193.77     1\n",
       "2                 69.47   26    59785.94              236.50     0\n",
       "3                 74.15   29    54806.18              245.89     1\n",
       "4                 68.37   35    73889.99              225.58     0"
      ]
     },
     "execution_count": 38,
     "metadata": {},
     "output_type": "execute_result"
    }
   ],
   "source": [
    "x=advertising.drop(columns=['ClickedonAd', 'Timestamp', 'City', 'Country', 'AdTopicLine'])\n",
    "x.head()\n",
    "#Dropping the variable which I have to predict -> ClickedonAd\n",
    "#Also dropping Timestamp because I do not need it for prediction\n",
    "#As it did not really have correlation with the target variable\n",
    "#Also dropping City, Country and Ad Topic Line because I do not need them"
   ]
  },
  {
   "cell_type": "code",
   "execution_count": 39,
   "metadata": {},
   "outputs": [
    {
     "data": {
      "text/plain": [
       "array([0, 0, 0, 0, 0])"
      ]
     },
     "execution_count": 39,
     "metadata": {},
     "output_type": "execute_result"
    }
   ],
   "source": [
    "#Inserting clicked on Ad into an array -> target variable\n",
    "y=advertising['ClickedonAd'].values\n",
    "y[0:5]"
   ]
  },
  {
   "cell_type": "code",
   "execution_count": 40,
   "metadata": {},
   "outputs": [],
   "source": [
    "#splitting the dataset and I am assigning 80:20 ratio between testing and training\n",
    "from sklearn.model_selection import train_test_split\n",
    "#split dataset into train and test data\n",
    "x_train, x_test, y_train, y_test = train_test_split(x, y, test_size=0.2, random_state=1, stratify=y)"
   ]
  },
  {
   "cell_type": "code",
   "execution_count": 41,
   "metadata": {},
   "outputs": [],
   "source": [
    "from sklearn.linear_model import LogisticRegression\n",
    "model = LogisticRegression()"
   ]
  },
  {
   "cell_type": "code",
   "execution_count": 42,
   "metadata": {},
   "outputs": [
    {
     "data": {
      "text/plain": [
       "LogisticRegression(C=1.0, class_weight=None, dual=False, fit_intercept=True,\n",
       "          intercept_scaling=1, max_iter=100, multi_class='warn',\n",
       "          n_jobs=None, penalty='l2', random_state=None, solver='warn',\n",
       "          tol=0.0001, verbose=0, warm_start=False)"
      ]
     },
     "execution_count": 42,
     "metadata": {},
     "output_type": "execute_result"
    }
   ],
   "source": [
    "model.fit(x_train, y_train)"
   ]
  },
  {
   "cell_type": "code",
   "execution_count": 43,
   "metadata": {},
   "outputs": [
    {
     "data": {
      "text/plain": [
       "array([0, 1, 1, 1, 0, 1, 1, 0, 0, 1, 1, 1, 1, 0, 1, 0, 0, 1, 0, 1, 0, 1,\n",
       "       0, 1, 0, 0, 0, 0, 1, 1, 1, 1, 0, 0, 0, 0, 1, 0, 1, 0, 1, 1, 1, 0,\n",
       "       0, 1, 0, 1, 1, 0, 0, 0, 0, 1, 1, 0, 1, 0, 1, 1, 0, 0, 1, 0, 1, 0,\n",
       "       0, 0, 0, 0, 0, 0, 1, 1, 1, 0, 0, 1, 1, 0, 1, 0, 0, 0, 1, 0, 0, 1,\n",
       "       1, 0, 1, 0, 1, 1, 1, 1, 1, 0, 0, 1, 0, 0, 1, 1, 1, 1, 1, 1, 1, 1,\n",
       "       0, 0, 1, 0, 0, 0, 0, 0, 1, 1, 1, 0, 0, 1, 1, 1, 0, 0, 1, 1, 0, 1,\n",
       "       1, 1, 0, 0, 0, 1, 0, 0, 0, 0, 0, 1, 1, 1, 0, 0, 0, 0, 1, 0, 1, 0,\n",
       "       1, 0, 0, 1, 0, 1, 0, 0, 0, 0, 0, 0, 0, 0, 1, 1, 1, 1, 1, 1, 0, 1,\n",
       "       1, 1, 0, 1, 1, 0, 0, 1, 0, 1, 1, 1, 0, 0, 0, 1, 1, 0, 0, 0, 0, 0,\n",
       "       0, 0])"
      ]
     },
     "execution_count": 43,
     "metadata": {},
     "output_type": "execute_result"
    }
   ],
   "source": [
    "y_predicted=model.predict(x_test)\n",
    "y_predicted"
   ]
  },
  {
   "cell_type": "code",
   "execution_count": 44,
   "metadata": {},
   "outputs": [
    {
     "data": {
      "text/plain": [
       "array([[8.50135933e-01, 1.49864067e-01],\n",
       "       [8.70574486e-04, 9.99129426e-01],\n",
       "       [4.54518133e-01, 5.45481867e-01],\n",
       "       [2.19202669e-01, 7.80797331e-01],\n",
       "       [9.79219343e-01, 2.07806567e-02],\n",
       "       [1.60902028e-01, 8.39097972e-01],\n",
       "       [4.02103438e-01, 5.97896562e-01],\n",
       "       [9.86792600e-01, 1.32074003e-02],\n",
       "       [8.06447731e-01, 1.93552269e-01],\n",
       "       [1.14706646e-01, 8.85293354e-01],\n",
       "       [2.46989856e-03, 9.97530101e-01],\n",
       "       [1.28730093e-01, 8.71269907e-01],\n",
       "       [2.24570963e-03, 9.97754290e-01],\n",
       "       [9.67476928e-01, 3.25230724e-02],\n",
       "       [5.68163269e-02, 9.43183673e-01],\n",
       "       [5.08871360e-01, 4.91128640e-01],\n",
       "       [8.93378461e-01, 1.06621539e-01],\n",
       "       [3.76793503e-02, 9.62320650e-01],\n",
       "       [9.14358188e-01, 8.56418123e-02],\n",
       "       [1.37943777e-03, 9.98620562e-01],\n",
       "       [9.62886333e-01, 3.71136666e-02],\n",
       "       [6.39384554e-03, 9.93606154e-01],\n",
       "       [9.87872940e-01, 1.21270597e-02],\n",
       "       [1.06805024e-01, 8.93194976e-01],\n",
       "       [8.87749057e-01, 1.12250943e-01],\n",
       "       [7.62764311e-01, 2.37235689e-01],\n",
       "       [9.77572584e-01, 2.24274156e-02],\n",
       "       [9.56625499e-01, 4.33745015e-02],\n",
       "       [1.38215899e-03, 9.98617841e-01],\n",
       "       [1.43228507e-01, 8.56771493e-01],\n",
       "       [3.37960249e-02, 9.66203975e-01],\n",
       "       [4.85191955e-03, 9.95148080e-01],\n",
       "       [7.80980817e-01, 2.19019183e-01],\n",
       "       [8.47112845e-01, 1.52887155e-01],\n",
       "       [9.66611280e-01, 3.33887204e-02],\n",
       "       [9.19210796e-01, 8.07892043e-02],\n",
       "       [5.27992380e-02, 9.47200762e-01],\n",
       "       [9.77120290e-01, 2.28797096e-02],\n",
       "       [3.49339971e-03, 9.96506600e-01],\n",
       "       [9.08164313e-01, 9.18356867e-02],\n",
       "       [4.15057503e-01, 5.84942497e-01],\n",
       "       [1.37773527e-01, 8.62226473e-01],\n",
       "       [1.30086900e-03, 9.98699131e-01],\n",
       "       [8.37286819e-01, 1.62713181e-01],\n",
       "       [9.74177504e-01, 2.58224962e-02],\n",
       "       [4.78270731e-01, 5.21729269e-01],\n",
       "       [6.41574821e-01, 3.58425179e-01],\n",
       "       [1.46129828e-03, 9.98538702e-01],\n",
       "       [3.36319942e-02, 9.66368006e-01],\n",
       "       [9.20294498e-01, 7.97055024e-02],\n",
       "       [9.02719791e-01, 9.72802089e-02],\n",
       "       [9.51043699e-01, 4.89563005e-02],\n",
       "       [9.79729098e-01, 2.02709022e-02],\n",
       "       [4.27735081e-02, 9.57226492e-01],\n",
       "       [4.88643973e-01, 5.11356027e-01],\n",
       "       [9.65182900e-01, 3.48170997e-02],\n",
       "       [6.21860463e-02, 9.37813954e-01],\n",
       "       [9.57976935e-01, 4.20230651e-02],\n",
       "       [7.07496175e-03, 9.92925038e-01],\n",
       "       [2.25367258e-01, 7.74632742e-01],\n",
       "       [8.88732403e-01, 1.11267597e-01],\n",
       "       [8.81724656e-01, 1.18275344e-01],\n",
       "       [5.39082691e-03, 9.94609173e-01],\n",
       "       [9.83874955e-01, 1.61250454e-02],\n",
       "       [5.59144612e-03, 9.94408554e-01],\n",
       "       [9.34467645e-01, 6.55323551e-02],\n",
       "       [9.89100807e-01, 1.08991928e-02],\n",
       "       [9.82373632e-01, 1.76263677e-02],\n",
       "       [9.37760258e-01, 6.22397423e-02],\n",
       "       [6.68782874e-01, 3.31217126e-01],\n",
       "       [7.20652360e-01, 2.79347640e-01],\n",
       "       [7.58184370e-01, 2.41815630e-01],\n",
       "       [5.05349043e-04, 9.99494651e-01],\n",
       "       [1.99176530e-03, 9.98008235e-01],\n",
       "       [6.69578072e-02, 9.33042193e-01],\n",
       "       [5.30434180e-01, 4.69565820e-01],\n",
       "       [7.58989267e-01, 2.41010733e-01],\n",
       "       [2.11659650e-03, 9.97883404e-01],\n",
       "       [3.28664692e-01, 6.71335308e-01],\n",
       "       [9.04838683e-01, 9.51613172e-02],\n",
       "       [2.04867992e-03, 9.97951320e-01],\n",
       "       [9.87858320e-01, 1.21416798e-02],\n",
       "       [9.89854723e-01, 1.01452769e-02],\n",
       "       [9.63765594e-01, 3.62344064e-02],\n",
       "       [7.25816581e-03, 9.92741834e-01],\n",
       "       [9.65662244e-01, 3.43377557e-02],\n",
       "       [8.33872273e-01, 1.66127727e-01],\n",
       "       [2.49940871e-03, 9.97500591e-01],\n",
       "       [2.77203807e-02, 9.72279619e-01],\n",
       "       [9.69725630e-01, 3.02743701e-02],\n",
       "       [7.85487150e-02, 9.21451285e-01],\n",
       "       [7.27296450e-01, 2.72703550e-01],\n",
       "       [1.48935207e-01, 8.51064793e-01],\n",
       "       [1.43546343e-02, 9.85645366e-01],\n",
       "       [4.81246772e-03, 9.95187532e-01],\n",
       "       [4.42715998e-02, 9.55728400e-01],\n",
       "       [8.67102964e-03, 9.91328970e-01],\n",
       "       [9.90619307e-01, 9.38069264e-03],\n",
       "       [9.82360651e-01, 1.76393488e-02],\n",
       "       [1.62253080e-02, 9.83774692e-01],\n",
       "       [9.31331298e-01, 6.86687017e-02],\n",
       "       [9.57151930e-01, 4.28480700e-02],\n",
       "       [1.75361872e-01, 8.24638128e-01],\n",
       "       [5.54819048e-03, 9.94451810e-01],\n",
       "       [2.12691890e-02, 9.78730811e-01],\n",
       "       [1.12855172e-01, 8.87144828e-01],\n",
       "       [3.69434593e-01, 6.30565407e-01],\n",
       "       [2.75249996e-01, 7.24750004e-01],\n",
       "       [6.31096270e-02, 9.36890373e-01],\n",
       "       [2.46180175e-01, 7.53819825e-01],\n",
       "       [9.86384115e-01, 1.36158849e-02],\n",
       "       [8.52892310e-01, 1.47107690e-01],\n",
       "       [1.27048537e-01, 8.72951463e-01],\n",
       "       [9.88220319e-01, 1.17796809e-02],\n",
       "       [8.45978640e-01, 1.54021360e-01],\n",
       "       [6.91907349e-01, 3.08092651e-01],\n",
       "       [9.57111718e-01, 4.28882824e-02],\n",
       "       [9.87753975e-01, 1.22460250e-02],\n",
       "       [8.62744805e-02, 9.13725519e-01],\n",
       "       [3.85435587e-02, 9.61456441e-01],\n",
       "       [3.21187302e-02, 9.67881270e-01],\n",
       "       [9.15034677e-01, 8.49653228e-02],\n",
       "       [7.64396870e-01, 2.35603130e-01],\n",
       "       [8.95642006e-02, 9.10435799e-01],\n",
       "       [5.79913174e-02, 9.42008683e-01],\n",
       "       [5.84990848e-02, 9.41500915e-01],\n",
       "       [9.49419876e-01, 5.05801236e-02],\n",
       "       [7.76116959e-01, 2.23883041e-01],\n",
       "       [2.44554310e-01, 7.55445690e-01],\n",
       "       [2.64442520e-02, 9.73555748e-01],\n",
       "       [9.77930023e-01, 2.20699766e-02],\n",
       "       [1.89820855e-02, 9.81017915e-01],\n",
       "       [3.03845385e-03, 9.96961546e-01],\n",
       "       [9.07109824e-03, 9.90928902e-01],\n",
       "       [9.85303897e-01, 1.46961028e-02],\n",
       "       [9.79597751e-01, 2.04022493e-02],\n",
       "       [9.90887204e-01, 9.11279644e-03],\n",
       "       [2.17874062e-02, 9.78212594e-01],\n",
       "       [7.08314390e-01, 2.91685610e-01],\n",
       "       [9.31267087e-01, 6.87329130e-02],\n",
       "       [9.68035097e-01, 3.19649030e-02],\n",
       "       [9.82323374e-01, 1.76766261e-02],\n",
       "       [8.54468512e-01, 1.45531488e-01],\n",
       "       [2.84470316e-02, 9.71552968e-01],\n",
       "       [2.45935291e-03, 9.97540647e-01],\n",
       "       [2.69582313e-02, 9.73041769e-01],\n",
       "       [5.96697401e-01, 4.03302599e-01],\n",
       "       [7.80874639e-01, 2.19125361e-01],\n",
       "       [8.81847844e-01, 1.18152156e-01],\n",
       "       [9.85772615e-01, 1.42273852e-02],\n",
       "       [2.95904214e-02, 9.70409579e-01],\n",
       "       [9.11073940e-01, 8.89260603e-02],\n",
       "       [1.78360265e-02, 9.82163973e-01],\n",
       "       [8.93276468e-01, 1.06723532e-01],\n",
       "       [9.15267877e-02, 9.08473212e-01],\n",
       "       [8.55568108e-01, 1.44431892e-01],\n",
       "       [9.59772753e-01, 4.02272471e-02],\n",
       "       [1.50164512e-02, 9.84983549e-01],\n",
       "       [9.77929024e-01, 2.20709763e-02],\n",
       "       [5.59138540e-03, 9.94408615e-01],\n",
       "       [9.51304849e-01, 4.86951507e-02],\n",
       "       [5.95613923e-01, 4.04386077e-01],\n",
       "       [9.63901201e-01, 3.60987992e-02],\n",
       "       [9.81158225e-01, 1.88417747e-02],\n",
       "       [7.54142068e-01, 2.45857932e-01],\n",
       "       [9.59179730e-01, 4.08202702e-02],\n",
       "       [9.26103967e-01, 7.38960330e-02],\n",
       "       [9.76333193e-01, 2.36668071e-02],\n",
       "       [2.28631706e-02, 9.77136829e-01],\n",
       "       [2.01357768e-01, 7.98642232e-01],\n",
       "       [1.92678081e-02, 9.80732192e-01],\n",
       "       [4.31007535e-01, 5.68992465e-01],\n",
       "       [3.70863161e-01, 6.29136839e-01],\n",
       "       [2.03872259e-02, 9.79612774e-01],\n",
       "       [9.83588491e-01, 1.64115087e-02],\n",
       "       [1.05213383e-01, 8.94786617e-01],\n",
       "       [6.44620129e-02, 9.35537987e-01],\n",
       "       [3.01141470e-03, 9.96988585e-01],\n",
       "       [9.12666837e-01, 8.73331633e-02],\n",
       "       [1.39891127e-01, 8.60108873e-01],\n",
       "       [2.76784596e-02, 9.72321540e-01],\n",
       "       [8.11916366e-01, 1.88083634e-01],\n",
       "       [8.35522635e-01, 1.64477365e-01],\n",
       "       [4.04717106e-01, 5.95282894e-01],\n",
       "       [9.36282272e-01, 6.37177283e-02],\n",
       "       [3.48010675e-03, 9.96519893e-01],\n",
       "       [6.59627314e-02, 9.34037269e-01],\n",
       "       [4.52701303e-01, 5.47298697e-01],\n",
       "       [9.23572721e-01, 7.64272791e-02],\n",
       "       [9.82587129e-01, 1.74128710e-02],\n",
       "       [9.51128391e-01, 4.88716094e-02],\n",
       "       [1.02347576e-01, 8.97652424e-01],\n",
       "       [7.04739051e-02, 9.29526095e-01],\n",
       "       [9.54207571e-01, 4.57924294e-02],\n",
       "       [9.91110006e-01, 8.88999390e-03],\n",
       "       [9.78478261e-01, 2.15217390e-02],\n",
       "       [9.47094920e-01, 5.29050804e-02],\n",
       "       [9.85514560e-01, 1.44854397e-02],\n",
       "       [8.66330643e-01, 1.33669357e-01],\n",
       "       [9.59958367e-01, 4.00416332e-02]])"
      ]
     },
     "execution_count": 44,
     "metadata": {},
     "output_type": "execute_result"
    }
   ],
   "source": [
    "model.predict_proba(x_test)"
   ]
  },
  {
   "cell_type": "code",
   "execution_count": 45,
   "metadata": {},
   "outputs": [
    {
     "data": {
      "text/plain": [
       "0.905"
      ]
     },
     "execution_count": 45,
     "metadata": {},
     "output_type": "execute_result"
    }
   ],
   "source": [
    "model.score(x_test, y_test)\n",
    "#accuracy of my model"
   ]
  },
  {
   "cell_type": "markdown",
   "metadata": {},
   "source": [
    "It looks like it is a very promising accuracy"
   ]
  },
  {
   "cell_type": "code",
   "execution_count": 46,
   "metadata": {},
   "outputs": [
    {
     "data": {
      "text/html": [
       "<div>\n",
       "<style scoped>\n",
       "    .dataframe tbody tr th:only-of-type {\n",
       "        vertical-align: middle;\n",
       "    }\n",
       "\n",
       "    .dataframe tbody tr th {\n",
       "        vertical-align: top;\n",
       "    }\n",
       "\n",
       "    .dataframe thead th {\n",
       "        text-align: right;\n",
       "    }\n",
       "</style>\n",
       "<table border=\"1\" class=\"dataframe\">\n",
       "  <thead>\n",
       "    <tr style=\"text-align: right;\">\n",
       "      <th></th>\n",
       "      <th>Age</th>\n",
       "    </tr>\n",
       "  </thead>\n",
       "  <tbody>\n",
       "    <tr>\n",
       "      <th>0</th>\n",
       "      <td>35</td>\n",
       "    </tr>\n",
       "    <tr>\n",
       "      <th>1</th>\n",
       "      <td>31</td>\n",
       "    </tr>\n",
       "    <tr>\n",
       "      <th>2</th>\n",
       "      <td>26</td>\n",
       "    </tr>\n",
       "    <tr>\n",
       "      <th>3</th>\n",
       "      <td>29</td>\n",
       "    </tr>\n",
       "    <tr>\n",
       "      <th>4</th>\n",
       "      <td>35</td>\n",
       "    </tr>\n",
       "  </tbody>\n",
       "</table>\n",
       "</div>"
      ],
      "text/plain": [
       "   Age\n",
       "0   35\n",
       "1   31\n",
       "2   26\n",
       "3   29\n",
       "4   35"
      ]
     },
     "execution_count": 46,
     "metadata": {},
     "output_type": "execute_result"
    }
   ],
   "source": [
    "#I want to try just with Age\n",
    "z = pd.DataFrame()\n",
    "z['Age']=advertising['Age']\n",
    "z.head()"
   ]
  },
  {
   "cell_type": "code",
   "execution_count": 47,
   "metadata": {},
   "outputs": [
    {
     "data": {
      "text/plain": [
       "0.735"
      ]
     },
     "execution_count": 47,
     "metadata": {},
     "output_type": "execute_result"
    }
   ],
   "source": [
    "#Inserting clicked on Ad into an array -> target variable\n",
    "w=advertising['ClickedonAd'].values\n",
    "#split dataset into train and test data\n",
    "z_train, z_test, w_train, w_test = train_test_split(z, w, test_size=0.2, random_state=1, stratify=y)\n",
    "model_age = LogisticRegression()\n",
    "model_age.fit(z_train, w_train)\n",
    "w_pred=model.predict(x_test)\n",
    "model_age.predict_proba(z_test)\n",
    "model_age.score(z_test, w_test)"
   ]
  },
  {
   "cell_type": "markdown",
   "metadata": {},
   "source": [
    "#### The accuracy of model drops in logistic regression when I only use Age variable to predict the model. So my conclusion is that I would use Age variable but all the other variables as well which are statiscally signficant"
   ]
  },
  {
   "cell_type": "markdown",
   "metadata": {},
   "source": [
    "Question 4)"
   ]
  },
  {
   "cell_type": "code",
   "execution_count": 48,
   "metadata": {},
   "outputs": [
    {
     "data": {
      "text/plain": [
       "KNeighborsClassifier(algorithm='auto', leaf_size=30, metric='minkowski',\n",
       "           metric_params=None, n_jobs=None, n_neighbors=3, p=2,\n",
       "           weights='uniform')"
      ]
     },
     "execution_count": 48,
     "metadata": {},
     "output_type": "execute_result"
    }
   ],
   "source": [
    "#I will keep the same test train data split for now and apply KNN and cross validation\n",
    "from sklearn.neighbors import KNeighborsClassifier\n",
    "# Create KNN classifier with k=3\n",
    "knn = KNeighborsClassifier(n_neighbors = 3)\n",
    "# Fit the classifier to the data\n",
    "knn.fit(x_train,y_train)"
   ]
  },
  {
   "cell_type": "code",
   "execution_count": 49,
   "metadata": {},
   "outputs": [],
   "source": [
    "#show first 5 model predictions on the test data\n",
    "knn.predict(x_test)[0:5]\n",
    "y_pred=knn.predict(x_test)"
   ]
  },
  {
   "cell_type": "code",
   "execution_count": 50,
   "metadata": {},
   "outputs": [
    {
     "data": {
      "text/plain": [
       "0.755"
      ]
     },
     "execution_count": 50,
     "metadata": {},
     "output_type": "execute_result"
    }
   ],
   "source": [
    "knn.score(x_test, y_test)"
   ]
  },
  {
   "cell_type": "markdown",
   "metadata": {},
   "source": [
    "#### The accuracy of KNN classifier is actually very less than logitical regression model accuracy, I am going to now apply cross validation and see if the accuracy improve by change KNN neighbor"
   ]
  },
  {
   "cell_type": "code",
   "execution_count": 52,
   "metadata": {},
   "outputs": [
    {
     "name": "stdout",
     "output_type": "stream",
     "text": [
      "[0.76 0.73 0.81 0.68 0.75 0.79 0.62 0.78 0.72 0.8 ]\n",
      "cross_validation_scores mean:0.744\n"
     ]
    }
   ],
   "source": [
    "\n",
    "from sklearn.model_selection import cross_val_score\n",
    "\n",
    "knn_cross_validation = KNeighborsClassifier(n_neighbors=3)\n",
    "\n",
    "#training my model with cv of 10\n",
    "cross_validation_scores = cross_val_score(knn_cross_validation, x, y, cv=10)\n",
    "\n",
    "#print each cv score (accuracy) and average them\n",
    "print(cross_validation_scores)\n",
    "print('cross_validation_scores mean:{}'.format(np.mean(cross_validation_scores)))"
   ]
  },
  {
   "cell_type": "markdown",
   "metadata": {},
   "source": [
    "#### cross validation score is almost coming very close to KNN classifier accuracy as well, however, it has been improving the more we have been folding so in 10th time, the accuracy was 0.8 which was a lot better, now lets try with different values of K to find the best value of K"
   ]
  },
  {
   "cell_type": "code",
   "execution_count": 53,
   "metadata": {},
   "outputs": [
    {
     "data": {
      "text/plain": [
       "GridSearchCV(cv=10, error_score='raise-deprecating',\n",
       "       estimator=KNeighborsClassifier(algorithm='auto', leaf_size=30, metric='minkowski',\n",
       "           metric_params=None, n_jobs=None, n_neighbors=5, p=2,\n",
       "           weights='uniform'),\n",
       "       fit_params=None, iid='warn', n_jobs=None,\n",
       "       param_grid={'n_neighbors': array([ 1,  2,  3,  4,  5,  6,  7,  8,  9, 10, 11, 12, 13, 14, 15, 16, 17,\n",
       "       18, 19, 20, 21, 22, 23, 24, 25, 26, 27, 28, 29, 30, 31, 32, 33, 34,\n",
       "       35, 36, 37, 38, 39, 40, 41, 42, 43, 44, 45, 46, 47, 48, 49])},\n",
       "       pre_dispatch='2*n_jobs', refit=True, return_train_score='warn',\n",
       "       scoring=None, verbose=0)"
      ]
     },
     "execution_count": 53,
     "metadata": {},
     "output_type": "execute_result"
    }
   ],
   "source": [
    "from sklearn.model_selection import GridSearchCV\n",
    "\n",
    "param_grid = {'n_neighbors':np.arange(1,50)}\n",
    "\n",
    "knn = KNeighborsClassifier()\n",
    "# building the same classifier with n-fold=10 for cross validation\n",
    "knn_cv= GridSearchCV(knn,param_grid,cv=10)\n",
    "knn_cv.fit(x_train,y_train)"
   ]
  },
  {
   "cell_type": "code",
   "execution_count": 54,
   "metadata": {},
   "outputs": [
    {
     "data": {
      "text/plain": [
       "0.8"
      ]
     },
     "execution_count": 54,
     "metadata": {},
     "output_type": "execute_result"
    }
   ],
   "source": [
    "knn_cv.best_score_"
   ]
  },
  {
   "cell_type": "code",
   "execution_count": 55,
   "metadata": {},
   "outputs": [
    {
     "data": {
      "text/plain": [
       "{'n_neighbors': 1}"
      ]
     },
     "execution_count": 55,
     "metadata": {},
     "output_type": "execute_result"
    }
   ],
   "source": [
    "knn_cv.best_params_"
   ]
  },
  {
   "cell_type": "markdown",
   "metadata": {},
   "source": [
    "### According to KNN GridSearch and cross validation, the best value of K is 1 to get the most accuracy."
   ]
  },
  {
   "cell_type": "markdown",
   "metadata": {},
   "source": [
    "#### The difference between KNN Classifier and Cross Validation Grid Search is that in Grid Search we can not only do k-fold validation by selecting different data points for training and testing to give the data more exposure so it can learn efficiently and not overfit. However, with grid search and cross validation at the same time, it works efficiently by looping over different values of K to find the best tuning parameter, hence the best value of K for the best accuracy in KNN Classifier.\n",
    "\n",
    "#### On the other hand, Logistic Regression model is regression but with symboid so it is used to predict classes, while KNN Classifier model works by identifying the closest neighbors to forecast predictions."
   ]
  }
 ],
 "metadata": {
  "kernelspec": {
   "display_name": "Python 3",
   "language": "python",
   "name": "python3"
  },
  "language_info": {
   "codemirror_mode": {
    "name": "ipython",
    "version": 3
   },
   "file_extension": ".py",
   "mimetype": "text/x-python",
   "name": "python",
   "nbconvert_exporter": "python",
   "pygments_lexer": "ipython3",
   "version": "3.7.1"
  }
 },
 "nbformat": 4,
 "nbformat_minor": 2
}
